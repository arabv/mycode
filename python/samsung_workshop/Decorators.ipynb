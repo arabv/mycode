{
 "cells": [
  {
   "cell_type": "markdown",
   "metadata": {},
   "source": [
    "### Function decorators"
   ]
  },
  {
   "cell_type": "code",
   "execution_count": 15,
   "metadata": {},
   "outputs": [],
   "source": [
    "import inspect"
   ]
  },
  {
   "cell_type": "code",
   "execution_count": null,
   "metadata": {},
   "outputs": [],
   "source": [
    "def foo():\n",
    "    \"\"\" Prints foo\"\"\"\n",
    "    print \"foo\"\n",
    "    \n",
    "def bar():\n",
    "    print \"bar\""
   ]
  },
  {
   "cell_type": "code",
   "execution_count": null,
   "metadata": {
    "scrolled": true
   },
   "outputs": [],
   "source": [
    "foo()\n",
    "bar()"
   ]
  },
  {
   "cell_type": "code",
   "execution_count": null,
   "metadata": {},
   "outputs": [],
   "source": [
    "foo.__name__"
   ]
  },
  {
   "cell_type": "code",
   "execution_count": null,
   "metadata": {},
   "outputs": [],
   "source": [
    "foo.__doc__"
   ]
  },
  {
   "cell_type": "code",
   "execution_count": null,
   "metadata": {},
   "outputs": [],
   "source": [
    "def foo():\n",
    "    print \"started foo\"\n",
    "    print \"foo\"\n",
    "    print \"finished foo\"\n",
    "    \n",
    "def bar():\n",
    "    print \"started bar\"\n",
    "    print \"bar\"\n",
    "    print \"finished bar\""
   ]
  },
  {
   "cell_type": "code",
   "execution_count": null,
   "metadata": {},
   "outputs": [],
   "source": [
    "foo()\n",
    "bar()"
   ]
  },
  {
   "cell_type": "code",
   "execution_count": 1,
   "metadata": {},
   "outputs": [],
   "source": [
    "def logit(func):\n",
    "    def wrapper(*args, **kwargs):\n",
    "        print \"started {}\".format(func.__name__)\n",
    "        return_value = func(*args, **kwargs)\n",
    "        print \"finished {}\".format(func.__name__)\n",
    "        return return_value\n",
    "    return wrapper"
   ]
  },
  {
   "cell_type": "code",
   "execution_count": 2,
   "metadata": {},
   "outputs": [],
   "source": [
    "@logit\n",
    "def foo():\n",
    "    \"\"\" Prints foo\"\"\"\n",
    "    print \"foo\"\n",
    "    \n",
    "@logit    \n",
    "def bar():\n",
    "    print \"bar\"\n",
    "    \n",
    "@logit\n",
    "def adder(a, b):\n",
    "    return a+b\n",
    "\n",
    "class FooBar(object):\n",
    "    @logit\n",
    "    def foobar(self):\n",
    "        print \"FooBar\""
   ]
  },
  {
   "cell_type": "code",
   "execution_count": 3,
   "metadata": {},
   "outputs": [
    {
     "name": "stdout",
     "output_type": "stream",
     "text": [
      "started foo\n",
      "foo\n",
      "finished foo\n",
      "started bar\n",
      "bar\n",
      "finished bar\n",
      "started adder\n",
      "finished adder\n",
      "started foobar\n",
      "FooBar\n",
      "finished foobar\n"
     ]
    }
   ],
   "source": [
    "foo()\n",
    "bar()\n",
    "adder(3,4)\n",
    "fb = FooBar()\n",
    "fb.foobar()"
   ]
  },
  {
   "cell_type": "code",
   "execution_count": 5,
   "metadata": {},
   "outputs": [
    {
     "name": "stdout",
     "output_type": "stream",
     "text": [
      "started subtractor\n",
      "finished subtractor\n"
     ]
    },
    {
     "data": {
      "text/plain": [
       "-4"
      ]
     },
     "execution_count": 5,
     "metadata": {},
     "output_type": "execute_result"
    }
   ],
   "source": [
    "def subtractor(a,b):\n",
    "    return a - b\n",
    "\n",
    "subtractor_wrapped = logit(subtractor)\n",
    "subtractor_wrapped(5,9)"
   ]
  },
  {
   "cell_type": "code",
   "execution_count": null,
   "metadata": {},
   "outputs": [],
   "source": [
    "foo.__name__"
   ]
  },
  {
   "cell_type": "code",
   "execution_count": null,
   "metadata": {},
   "outputs": [],
   "source": [
    "foo.__doc__"
   ]
  },
  {
   "cell_type": "code",
   "execution_count": 8,
   "metadata": {},
   "outputs": [],
   "source": [
    "from functools import wraps"
   ]
  },
  {
   "cell_type": "code",
   "execution_count": null,
   "metadata": {},
   "outputs": [],
   "source": [
    "def logit(func):\n",
    "    @wraps(func)\n",
    "    def wrapper(*args, **kwargs):\n",
    "        print \"started {}\".format(func.__name__)\n",
    "        return_value = func(*args, **kwargs)\n",
    "        print \"finished {}\".format(func.__name__)\n",
    "        return return_value\n",
    "    return wrapper"
   ]
  },
  {
   "cell_type": "code",
   "execution_count": null,
   "metadata": {},
   "outputs": [],
   "source": [
    "@logit\n",
    "def foo():\n",
    "    \"\"\" Prints foo\"\"\"\n",
    "    print \"foo\""
   ]
  },
  {
   "cell_type": "code",
   "execution_count": null,
   "metadata": {},
   "outputs": [],
   "source": [
    "foo()"
   ]
  },
  {
   "cell_type": "code",
   "execution_count": null,
   "metadata": {},
   "outputs": [],
   "source": [
    "foo.__name__"
   ]
  },
  {
   "cell_type": "code",
   "execution_count": null,
   "metadata": {},
   "outputs": [],
   "source": [
    "foo.__doc__"
   ]
  },
  {
   "cell_type": "code",
   "execution_count": 9,
   "metadata": {},
   "outputs": [],
   "source": [
    "def logit(start_msg = \"started\", stop_msg=\"stopped\"):\n",
    "    def logit_decorate(func):\n",
    "        @wraps(func)\n",
    "        def wrapper(*args, **kwargs):\n",
    "            print \"{} {}\".format(start_msg, func.__name__)\n",
    "            return_value = func(*args, **kwargs)\n",
    "            print \"{} {}\".format(stop_msg, func.__name__)\n",
    "            return return_value\n",
    "        return wrapper\n",
    "    return logit_decorate"
   ]
  },
  {
   "cell_type": "code",
   "execution_count": 10,
   "metadata": {},
   "outputs": [],
   "source": [
    "@logit(start_msg=\"Start Logging\")\n",
    "def foo():\n",
    "    \"\"\" Prints foo\"\"\"\n",
    "    print \"foo\""
   ]
  },
  {
   "cell_type": "code",
   "execution_count": 11,
   "metadata": {},
   "outputs": [
    {
     "name": "stdout",
     "output_type": "stream",
     "text": [
      "Start Logging foo\n",
      "foo\n",
      "stopped foo\n"
     ]
    }
   ],
   "source": [
    "foo()"
   ]
  },
  {
   "cell_type": "code",
   "execution_count": 13,
   "metadata": {},
   "outputs": [
    {
     "name": "stdout",
     "output_type": "stream",
     "text": [
      "started bar\n",
      "bar\n",
      "Stopped this function bar\n"
     ]
    }
   ],
   "source": [
    "def bar():\n",
    "    print \"bar\"\n",
    "\n",
    "bar_wrapped = logit(stop_msg=\"Stopped this function\")(bar)\n",
    "bar_wrapped()"
   ]
  },
  {
   "cell_type": "markdown",
   "metadata": {},
   "source": [
    "### Practical task - write a decorator, that receives as a parameters a tuple of exception names and retry count and retries function execution count number of times if an exception in tuple occures"
   ]
  },
  {
   "cell_type": "code",
   "execution_count": null,
   "metadata": {},
   "outputs": [],
   "source": [
    "@retry_on_exception(exception=(TimeoutException, IndexError), retry_count=2)\n",
    "def connect(self):\n",
    "    self.open_connection(self.host)\n",
    "    "
   ]
  },
  {
   "cell_type": "code",
   "execution_count": null,
   "metadata": {},
   "outputs": [],
   "source": []
  },
  {
   "cell_type": "code",
   "execution_count": null,
   "metadata": {},
   "outputs": [],
   "source": []
  },
  {
   "cell_type": "code",
   "execution_count": 14,
   "metadata": {},
   "outputs": [],
   "source": [
    "def retry_on_exception(exception=RuntimeError, retry_count=1):\n",
    "    '''\n",
    "    Decorator that makes keyword to retry its execution in case when specified exception is raised\n",
    "    :param times:  how many times should keyword be executed on failure\n",
    "    :param exception: tuple of expected exception classes, like (socket.error, ExpatError)\n",
    "    '''\n",
    "    def _retry_on_exception_decorator(func):\n",
    "        def wrapper(*args, **kwargs):\n",
    "            counter = retry_count\n",
    "            while counter > 0:\n",
    "                try:\n",
    "                    result = func(*args, **kwargs)\n",
    "                    return result\n",
    "                except exception as e:\n",
    "                    if not counter:\n",
    "                        raise\n",
    "                    counter -= 1\n",
    "                    args[0].logger.warning(\"{}. Retrying\".format(e))\n",
    "                    time.sleep(1)\n",
    "        return wrapper\n",
    "    return _retry_on_exception_decorator"
   ]
  },
  {
   "cell_type": "code",
   "execution_count": null,
   "metadata": {},
   "outputs": [],
   "source": [
    "def throw_index_error(range=):\n",
    "    "
   ]
  }
 ],
 "metadata": {
  "kernelspec": {
   "display_name": "Python 2",
   "language": "python",
   "name": "python2"
  },
  "language_info": {
   "codemirror_mode": {
    "name": "ipython",
    "version": 2
   },
   "file_extension": ".py",
   "mimetype": "text/x-python",
   "name": "python",
   "nbconvert_exporter": "python",
   "pygments_lexer": "ipython2",
   "version": "2.7.12"
  }
 },
 "nbformat": 4,
 "nbformat_minor": 2
}
