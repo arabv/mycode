{
 "cells": [
  {
   "cell_type": "code",
   "execution_count": 10,
   "metadata": {},
   "outputs": [
    {
     "name": "stdout",
     "output_type": "stream",
     "text": [
      "100\n",
      "200\n",
      "300\n",
      "400\n",
      "500\n",
      "600\n",
      "700\n",
      "800\n",
      "900\n",
      "989\n"
     ]
    }
   ],
   "source": [
    "import threading\n",
    "import time\n",
    "import inspect\n",
    "\n",
    "class Thread(threading.Thread):\n",
    "    def __init__(self, t, *args):\n",
    "        threading.Thread.__init__(self, target=t, args=args)\n",
    "        self.start()\n",
    "\n",
    "class GlobalCounter(object):\n",
    "    counter = 0  \n",
    "    @classmethod\n",
    "    def incre(cls):\n",
    "        cls.counter += 1  \n",
    "        if cls.counter % 100 == 0:\n",
    "            print cls.counter    \n",
    "        time.sleep(0.1)  \n",
    "\n",
    "def incr_thread():\n",
    "    for x in xrange(0, 100):\n",
    "        GlobalCounter.incre()\n",
    "\n",
    "def main():    \n",
    "    my_threads = []\n",
    "    for i in xrange(0, 10):\n",
    "        my_thread = Thread(incr_thread)\n",
    "        my_threads.append(my_thread)\n",
    "    \n",
    "    for my_thread in my_threads:\n",
    "        my_thread.join()\n",
    "    \n",
    "    print GlobalCounter.counter\n",
    "    \n",
    "if __name__ == '__main__':\n",
    "    main()"
   ]
  },
  {
   "cell_type": "markdown",
   "metadata": {},
   "source": [
    "### Use Lock "
   ]
  },
  {
   "cell_type": "code",
   "execution_count": 9,
   "metadata": {},
   "outputs": [
    {
     "name": "stdout",
     "output_type": "stream",
     "text": [
      "100\n",
      "200\n",
      "300\n",
      "400\n",
      "500\n",
      "600\n",
      "700\n",
      "800\n",
      "900\n",
      "1000\n",
      "1000\n"
     ]
    }
   ],
   "source": [
    "import threading\n",
    "import time\n",
    "import inspect\n",
    "\n",
    "class Thread(threading.Thread):\n",
    "    def __init__(self, t, *args):\n",
    "        threading.Thread.__init__(self, target=t, args=args)\n",
    "        self.start()\n",
    "\n",
    "lock = threading.Lock()\n",
    "\n",
    "class GlobalCounter(object):\n",
    "    counter = 0 \n",
    "    lock = threading.Lock()\n",
    "    @classmethod\n",
    "    def incre(cls):\n",
    "        with GlobalCounter.lock:\n",
    "            cls.counter += 1  \n",
    "            if cls.counter % 100 == 0:\n",
    "                print cls.counter\n",
    "        time.sleep(0.1)  \n",
    "        \n",
    "def incr_thread():\n",
    "    for x in xrange(0, 100):\n",
    "        GlobalCounter.incre()\n",
    "\n",
    "my_threads = []\n",
    "for i in xrange(0, 10):\n",
    "    my_thread = Thread(incr_thread)\n",
    "    my_threads.append(my_thread)\n",
    "    \n",
    "for my_thread in my_threads:\n",
    "    my_thread.join()\n",
    "    \n",
    "print GlobalCounter.counter"
   ]
  },
  {
   "cell_type": "markdown",
   "metadata": {},
   "source": [
    "### Producer/Consumer with Condition object"
   ]
  },
  {
   "cell_type": "code",
   "execution_count": 16,
   "metadata": {},
   "outputs": [
    {
     "name": "stderr",
     "output_type": "stream",
     "text": [
      "(consumer1) Consumer thread started ...\n",
      "(consumer1) Consumer waiting ...\n",
      "(consumer2) Consumer thread started ...\n",
      "(consumer2) Consumer waiting ...\n",
      "(producer ) Producer thread started ...\n",
      "(producer ) Making resource available\n",
      "(producer ) Notifying to all consumers\n",
      "(consumer2) Consumer consumed the resource\n",
      "(consumer1) Consumer waiting ...\n",
      "(producer ) Making resource available\n",
      "(producer ) Notifying to all consumers\n",
      "(consumer2) Consumer consumed the resource\n",
      "(consumer1) Consumer waiting ...\n",
      "(producer ) Making resource available\n",
      "(producer ) Notifying to all consumers\n",
      "(consumer2) Consumer consumed the resource\n",
      "(consumer1) Consumer waiting ...\n",
      "(producer ) Making resource available\n",
      "(producer ) Notifying to all consumers\n",
      "(consumer1) Consumer consumed the resource\n",
      "(producer ) Making resource available\n",
      "(producer ) Notifying to all consumers\n",
      "(consumer1) Consumer consumed the resource\n",
      "(producer ) Making resource available\n",
      "(producer ) Notifying to all consumers\n",
      "(consumer1) Consumer consumed the resource\n",
      "(producer ) Making resource available\n",
      "(producer ) Notifying to all consumers\n",
      "(consumer1) Consumer consumed the resource\n",
      "(producer ) Making resource available\n",
      "(producer ) Notifying to all consumers\n",
      "(consumer1) Consumer consumed the resource\n"
     ]
    }
   ],
   "source": [
    "import threading\n",
    "import time\n",
    "import logging\n",
    "\n",
    "logging.basicConfig(level=logging.DEBUG, format='(%(threadName)-9s) %(message)s',)\n",
    "\n",
    "resources = []\n",
    "def consumer(cv, required_resources_num=1):\n",
    "    global resources\n",
    "    logging.debug('Consumer thread started ...')\n",
    "    for i in xrange(0, required_resources_num):\n",
    "        with cv:\n",
    "            while not resources:\n",
    "                logging.debug('Consumer waiting ...')\n",
    "                cv.wait()\n",
    "            logging.debug('Consumer consumed the resource')\n",
    "            resources.pop()\n",
    "\n",
    "def producer(cv, available_resources):\n",
    "    global resources    \n",
    "    logging.debug('Producer thread started ...')    \n",
    "    for i in xrange(0, available_resources):\n",
    "        with cv:\n",
    "            logging.debug('Making resource available')\n",
    "            logging.debug('Notifying to all consumers')\n",
    "            resources.append(i)\n",
    "            cv.notifyAll()\n",
    "            time.sleep(1)\n",
    "\n",
    "if __name__ == '__main__':\n",
    "    condition = threading.Condition()\n",
    "    cs1 = threading.Thread(name='consumer1', target=consumer, args=(condition, 5))\n",
    "    cs2 = threading.Thread(name='consumer2', target=consumer, args=(condition,3))\n",
    "    pd = threading.Thread(name='producer', target=producer, args=(condition,8))\n",
    "\n",
    "    cs1.start()\n",
    "    time.sleep(2)\n",
    "    cs2.start()\n",
    "    time.sleep(2)\n",
    "    pd.start()"
   ]
  },
  {
   "cell_type": "code",
   "execution_count": null,
   "metadata": {},
   "outputs": [],
   "source": []
  }
 ],
 "metadata": {
  "kernelspec": {
   "display_name": "Python 2",
   "language": "python",
   "name": "python2"
  },
  "language_info": {
   "codemirror_mode": {
    "name": "ipython",
    "version": 2
   },
   "file_extension": ".py",
   "mimetype": "text/x-python",
   "name": "python",
   "nbconvert_exporter": "python",
   "pygments_lexer": "ipython2",
   "version": "2.7.12"
  }
 },
 "nbformat": 4,
 "nbformat_minor": 2
}
